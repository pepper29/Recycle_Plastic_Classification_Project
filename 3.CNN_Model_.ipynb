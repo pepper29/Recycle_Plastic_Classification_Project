{
 "cells": [
  {
   "cell_type": "markdown",
   "id": "a6c48f71",
   "metadata": {},
   "source": [
    "참고: https://velog.io/@jaehyeong/CNN-%EB%AA%A8%EB%8D%B8%EC%9D%84-%ED%86%B5%ED%95%9C-%EC%9E%90%EB%8F%99%EC%B0%A8-%EC%82%AC%EA%B3%A0-%EC%9D%B4%EB%AF%B8%EC%A7%80-%EB%B6%84%EB%A5%98"
   ]
  },
  {
   "cell_type": "markdown",
   "id": "9c07f5c3",
   "metadata": {},
   "source": [
    "# 합성곱 신경망(Convolutional Neural Network, CNN) 모델\n",
    "- 모델은 이미지 분류의 정석으로 불리는 CNN(Convolution Neural Network) 모델을 활용하였습니다.<br>\n",
    "- 총 3개의 층으로 구성하였고, 활성화 함수로는 relu 및 softmax 함수를 적용하였습니다.\n",
    "- dropout도 적용하여 과적합을 방지하였습니다."
   ]
  },
  {
   "cell_type": "markdown",
   "id": "8b3e0971",
   "metadata": {},
   "source": [
    "## 데이터 불러오기"
   ]
  },
  {
   "cell_type": "code",
   "execution_count": 1,
   "id": "b03579fe",
   "metadata": {},
   "outputs": [],
   "source": [
    "from tensorflow.keras.models import Sequential\n",
    "from tensorflow.keras.layers import MaxPooling2D\n",
    "from tensorflow.keras.layers import Conv2D\n",
    "from tensorflow.keras.layers import Activation, Dropout, Flatten, Dense\n",
    "import numpy as np\n",
    "import os\n",
    "from tensorflow.keras.applications import VGG16, ResNet50, MobileNet, InceptionV3 # 검증된 학습\n",
    "from tensorflow.python.keras.models import Model\n",
    "from tensorflow.keras.callbacks import EarlyStopping"
   ]
  },
  {
   "cell_type": "code",
   "execution_count": 2,
   "id": "7c7aa314",
   "metadata": {},
   "outputs": [],
   "source": [
    "## 카테고리 지정하기\n",
    "categories = ['Plastic', 'RecycledPlastic', 'Can', 'Glass', 'Paper', 'trash']\n",
    "nb_classes = len(categories)"
   ]
  },
  {
   "cell_type": "code",
   "execution_count": 3,
   "id": "eccc7665",
   "metadata": {},
   "outputs": [],
   "source": [
    "## 이미지 크기 지정하기\n",
    "image_w = 64\n",
    "image_h = 64"
   ]
  },
  {
   "cell_type": "code",
   "execution_count": 4,
   "id": "153e6219",
   "metadata": {},
   "outputs": [],
   "source": [
    "## 데이터 열기 \n",
    "X_train, X_test, y_train, y_test = np.load(\"./image/6obj.npy\", allow_pickle=True)"
   ]
  },
  {
   "cell_type": "code",
   "execution_count": 5,
   "id": "211f8f7c",
   "metadata": {},
   "outputs": [
    {
     "name": "stdout",
     "output_type": "stream",
     "text": [
      "train 이미지: (42448, 64, 64, 3)\n",
      "test 이미지: (10613, 64, 64, 3)\n",
      "train label: (42448, 6)\n",
      "test label: (10613, 6)\n"
     ]
    }
   ],
   "source": [
    "## train, test set 확인\n",
    "print('train 이미지:', X_train.shape)\n",
    "print('test 이미지:', X_test.shape)\n",
    "print('train label:', y_train.shape)\n",
    "print('test label:', y_test.shape)"
   ]
  },
  {
   "cell_type": "markdown",
   "id": "b0608f44",
   "metadata": {},
   "source": [
    "## 데이터 정규화"
   ]
  },
  {
   "cell_type": "code",
   "execution_count": 6,
   "id": "b8099043",
   "metadata": {},
   "outputs": [],
   "source": [
    "## 데이터 정규화하기(0 ~ 1사이로)\n",
    "X_train = X_train.astype(\"float\") / 255\n",
    "X_test  = X_test.astype(\"float\") / 255"
   ]
  },
  {
   "cell_type": "markdown",
   "id": "65e09a6e",
   "metadata": {},
   "source": [
    "## 모델 생성(합성곱 신경망, CNN)"
   ]
  },
  {
   "cell_type": "code",
   "execution_count": 7,
   "id": "9b7c0efb",
   "metadata": {},
   "outputs": [
    {
     "name": "stdout",
     "output_type": "stream",
     "text": [
      "Model: \"sequential\"\n",
      "_________________________________________________________________\n",
      " Layer (type)                Output Shape              Param #   \n",
      "=================================================================\n",
      " conv2d (Conv2D)             (None, 64, 64, 32)        896       \n",
      "                                                                 \n",
      " activation (Activation)     (None, 64, 64, 32)        0         \n",
      "                                                                 \n",
      " max_pooling2d (MaxPooling2D  (None, 32, 32, 32)       0         \n",
      " )                                                               \n",
      "                                                                 \n",
      " dropout (Dropout)           (None, 32, 32, 32)        0         \n",
      "                                                                 \n",
      " conv2d_1 (Conv2D)           (None, 32, 32, 64)        18496     \n",
      "                                                                 \n",
      " activation_1 (Activation)   (None, 32, 32, 64)        0         \n",
      "                                                                 \n",
      " max_pooling2d_1 (MaxPooling  (None, 16, 16, 64)       0         \n",
      " 2D)                                                             \n",
      "                                                                 \n",
      " dropout_1 (Dropout)         (None, 16, 16, 64)        0         \n",
      "                                                                 \n",
      " conv2d_2 (Conv2D)           (None, 16, 16, 64)        36928     \n",
      "                                                                 \n",
      " activation_2 (Activation)   (None, 16, 16, 64)        0         \n",
      "                                                                 \n",
      " max_pooling2d_2 (MaxPooling  (None, 8, 8, 64)         0         \n",
      " 2D)                                                             \n",
      "                                                                 \n",
      " conv2d_3 (Conv2D)           (None, 6, 6, 64)          36928     \n",
      "                                                                 \n",
      " max_pooling2d_3 (MaxPooling  (None, 3, 3, 64)         0         \n",
      " 2D)                                                             \n",
      "                                                                 \n",
      " activation_3 (Activation)   (None, 3, 3, 64)          0         \n",
      "                                                                 \n",
      " dropout_2 (Dropout)         (None, 3, 3, 64)          0         \n",
      "                                                                 \n",
      " flatten (Flatten)           (None, 576)               0         \n",
      "                                                                 \n",
      " dense (Dense)               (None, 512)               295424    \n",
      "                                                                 \n",
      " activation_4 (Activation)   (None, 512)               0         \n",
      "                                                                 \n",
      " dropout_3 (Dropout)         (None, 512)               0         \n",
      "                                                                 \n",
      " dense_1 (Dense)             (None, 6)                 3078      \n",
      "                                                                 \n",
      " activation_5 (Activation)   (None, 6)                 0         \n",
      "                                                                 \n",
      "=================================================================\n",
      "Total params: 391,750\n",
      "Trainable params: 391,750\n",
      "Non-trainable params: 0\n",
      "_________________________________________________________________\n"
     ]
    }
   ],
   "source": [
    "## 모델 구조 정의\n",
    "model = Sequential()\n",
    "# 얼리스탑핑\n",
    "early_stopping_callback = EarlyStopping(monitor='val_loss', patience=3)\n",
    "\n",
    "## 1층\n",
    "model.add(Conv2D(32, (3, 3), input_shape=X_train.shape[1:], padding='same'))  # 합성곱층 1 (64, 64, 3)\n",
    "model.add(Activation('relu'))                                                 # 활성화 함수\n",
    "model.add(MaxPooling2D(pool_size=(2, 2)))                                     # 풀링층 1\n",
    "model.add(Dropout(0.2))       # 과적합 방지\n",
    "\n",
    "## 2층\n",
    "model.add(Conv2D(64, (3, 3), padding='same'))\n",
    "model.add(Activation('relu'))\n",
    "model.add(MaxPooling2D(pool_size=(2, 2)))\n",
    "model.add(Dropout(0.2))\n",
    "\n",
    "## 3층\n",
    "model.add(Conv2D(64, (3, 3), padding='same'))\n",
    "model.add(Activation('relu'))\n",
    "model.add(MaxPooling2D(pool_size=(2, 2)))\n",
    "# model.add(Dropout(0.3))\n",
    "\n",
    "## 4층\n",
    "model.add(Conv2D(64, (3, 3)))\n",
    "model.add(MaxPooling2D(pool_size=(2, 2)))                          # 풀링층 \n",
    "model.add(Activation('relu'))\n",
    "model.add(Dropout(0.2))\n",
    "\n",
    "## 완전연결층\n",
    "model.add(Flatten())   # 1차원 벡터 형태로 reshape\n",
    "model.add(Dense(512))  # 출력\n",
    "model.add(Activation('relu'))\n",
    "model.add(Dropout(0.5))\n",
    "\n",
    "## 출력층\n",
    "model.add(Dense(nb_classes))\n",
    "model.add(Activation('softmax'))\n",
    "\n",
    "## 모델 확인\n",
    "model.summary()\n",
    "\n",
    "## 모델 compile\n",
    "model.compile(loss='categorical_crossentropy',  # 최적화 함수 지정\n",
    "              optimizer='Adam',                 # RMSProp\n",
    "              metrics=['accuracy'])"
   ]
  },
  {
   "cell_type": "markdown",
   "id": "ca7d8528",
   "metadata": {},
   "source": [
    "### 전이학습모델생성"
   ]
  },
  {
   "cell_type": "code",
   "execution_count": null,
   "id": "e498513e",
   "metadata": {},
   "outputs": [],
   "source": [
    "# base_model =  ResNet50(weights='imagenet', include_top=False, input_shape=(64,64,3))\n",
    "# base_model.summary()\n",
    "# model = Sequential()\n",
    "# model.add(base_model)\n",
    "# model.add(Flatten())\n",
    "# model.add(Dense(64, activation='relu'))\n",
    "# model.add(Dropout(0.25))\n",
    "# model.add(Dense(6, activation='softmax'))\n",
    "# #모델확인\n",
    "# model.summary()"
   ]
  },
  {
   "cell_type": "markdown",
   "id": "827049cf",
   "metadata": {},
   "source": [
    "## 모델 학습"
   ]
  },
  {
   "cell_type": "code",
   "execution_count": 8,
   "id": "e56078a7",
   "metadata": {
    "scrolled": true
   },
   "outputs": [
    {
     "name": "stdout",
     "output_type": "stream",
     "text": [
      "CPU times: total: 0 ns\n",
      "Wall time: 19.2 ms\n"
     ]
    }
   ],
   "source": [
    "%%time\n",
    "## 학습 완료한 모델 저장 경로\n",
    "hdf5_file = \"C:/Users/ADMIN/Documents/수업파일/221214(Semi)/save Us(Earth)/결과/23/6obj-model.hdf5\"\n",
    "\n",
    "## 기존에 학습된 모델 불러들이기\n",
    "if os.path.exists(hdf5_file):\n",
    "    model.load_weights(hdf5_file)\n",
    "    \n",
    "## 학습한 모델이 없으면 파일로 저장\n",
    "else:\n",
    "    history = model.fit(X_train, y_train, batch_size=64, epochs=30, validation_data=(X_test, y_test), callbacks=[early_stopping_callback])\n",
    "    model.save_weights(hdf5_file)"
   ]
  },
  {
   "cell_type": "markdown",
   "id": "2e78dc5a",
   "metadata": {},
   "source": [
    "## 모델의 오차와 정확도"
   ]
  },
  {
   "cell_type": "code",
   "execution_count": 9,
   "id": "6098ec95",
   "metadata": {},
   "outputs": [
    {
     "name": "stdout",
     "output_type": "stream",
     "text": [
      "332/332 [==============================] - 4s 12ms/step - loss: 0.3430 - accuracy: 0.8842\n",
      "loss= 0.3430121839046478\n",
      "accuracy= 0.8841986060142517\n"
     ]
    }
   ],
   "source": [
    "## 모델 평가하기 \n",
    "score = model.evaluate(X_test, y_test)\n",
    "\n",
    "print('loss=', score[0])      # loss\n",
    "print('accuracy=', score[1])  # accuracy"
   ]
  },
  {
   "cell_type": "markdown",
   "id": "1e4d0fe1",
   "metadata": {},
   "source": [
    "## 그래프"
   ]
  },
  {
   "cell_type": "code",
   "execution_count": null,
   "id": "7ac04e0f",
   "metadata": {},
   "outputs": [],
   "source": [
    "import pandas as pd\n",
    "\n",
    "df_history = pd.DataFrame(history.history)\n",
    "df_history.plot()"
   ]
  },
  {
   "cell_type": "markdown",
   "id": "33502018",
   "metadata": {},
   "source": [
    "## 이미지 예측"
   ]
  },
  {
   "cell_type": "code",
   "execution_count": 10,
   "id": "848265af",
   "metadata": {},
   "outputs": [
    {
     "name": "stdout",
     "output_type": "stream",
     "text": [
      "이것은 Plastic 입니다.\n"
     ]
    }
   ],
   "source": [
    "from PIL import Image\n",
    "\n",
    "## 예측할 이미지 \n",
    "test_image = './image/test_img/test3.jpg'\n",
    "\n",
    "## 이미지 전처리\n",
    "img = Image.open(test_image)       # 이미지 열기\n",
    "img = img.convert('RGB')           # RGB로 변환\n",
    "img = img.resize((64, 64))         # 이미지 resize\n",
    "data = np.asarray(img)             # 이미지 -> numpy 배열 변환\n",
    "data = data.astype('float') / 255  # 데이터 정규화\n",
    "data = data.reshape(-1, 64, 64, 3)\n",
    "\n",
    "## 예측\n",
    "pred = model.predict(data)  \n",
    "result = [np.argmax(value) for value in pred]  # 예측 값 중 가장 높은 클래스 반환\n",
    "print('이것은', categories[result[0]], '입니다.')"
   ]
  },
  {
   "cell_type": "markdown",
   "id": "74e93485",
   "metadata": {},
   "source": [
    "## 이미지 예측(폴더 전체)"
   ]
  },
  {
   "cell_type": "code",
   "execution_count": 15,
   "id": "0e3eb106",
   "metadata": {},
   "outputs": [],
   "source": [
    "test_dir = 'C:/Users/ADMIN/Documents/수업파일/221214(Semi)/save Us(Earth)/image/test_img/'\n",
    "fnames = os.listdir(test_dir)"
   ]
  },
  {
   "cell_type": "code",
   "execution_count": 16,
   "id": "7e0f7ab8",
   "metadata": {},
   "outputs": [
    {
     "name": "stdout",
     "output_type": "stream",
     "text": [
      "bottle.jfif 사진은 Glass 입니다.\n",
      "bottle2.jfif 사진은 Plastic 입니다.\n",
      "bottle3.jfif 사진은 Plastic 입니다.\n",
      "CAN (1).jpg 사진은 Can 입니다.\n",
      "CAN (10).jpg 사진은 Can 입니다.\n",
      "CAN (2).jpg 사진은 RecycledPlastic 입니다.\n",
      "CAN (3).jpg 사진은 Plastic 입니다.\n",
      "CAN (4).jpg 사진은 Can 입니다.\n",
      "CAN (5).jpg 사진은 Can 입니다.\n",
      "CAN (6).jpg 사진은 Can 입니다.\n",
      "CAN (7).jpg 사진은 Plastic 입니다.\n",
      "CAN (8).jpg 사진은 Can 입니다.\n",
      "CAN (9).jpg 사진은 Paper 입니다.\n",
      "NoLabel (1).jpg 사진은 RecycledPlastic 입니다.\n",
      "NoLabel (10).jpg 사진은 RecycledPlastic 입니다.\n",
      "NoLabel (2).jpg 사진은 RecycledPlastic 입니다.\n",
      "NoLabel (3).jpg 사진은 RecycledPlastic 입니다.\n",
      "NoLabel (4).jpg 사진은 RecycledPlastic 입니다.\n",
      "NoLabel (5).jpg 사진은 RecycledPlastic 입니다.\n",
      "NoLabel (6).jpg 사진은 RecycledPlastic 입니다.\n",
      "NoLabel (7).jpg 사진은 RecycledPlastic 입니다.\n",
      "NoLabel (8).jpg 사진은 RecycledPlastic 입니다.\n",
      "NoLabel (9).jpg 사진은 RecycledPlastic 입니다.\n",
      "paper1.jfif 사진은 RecycledPlastic 입니다.\n",
      "paper2.jfif 사진은 RecycledPlastic 입니다.\n",
      "PET (1).jpg 사진은 Plastic 입니다.\n",
      "PET (10).jpg 사진은 Plastic 입니다.\n",
      "PET (2).jpg 사진은 Plastic 입니다.\n",
      "PET (3).jpg 사진은 Plastic 입니다.\n",
      "PET (4).jpg 사진은 Plastic 입니다.\n",
      "PET (5).jpg 사진은 Plastic 입니다.\n",
      "PET (6).jpg 사진은 Plastic 입니다.\n",
      "PET (7).jpg 사진은 Plastic 입니다.\n",
      "PET (8).jpg 사진은 Plastic 입니다.\n",
      "PET (9).jpg 사진은 Plastic 입니다.\n",
      "test.jpg 사진은 Plastic 입니다.\n",
      "test2.jpg 사진은 Plastic 입니다.\n",
      "test3.jpg 사진은 Plastic 입니다.\n"
     ]
    }
   ],
   "source": [
    "from PIL import Image\n",
    "\n",
    "for i in fnames:\n",
    "    ## 예측할 이미지\n",
    "    test_image = test_dir + i\n",
    "    \n",
    "    ## 이미지 전처리\n",
    "    img = Image.open(test_image)       # 이미지 열기\n",
    "    img = img.convert('RGB')           # RGB로 변환\n",
    "    img = img.resize((64, 64))         # 이미지 resize\n",
    "    data = np.asarray(img)             # 이미지 -> numpy 배열 변환\n",
    "    data = data.astype('float') / 255  # 데이터 정규화\n",
    "    data = data.reshape(-1, 64, 64, 3)\n",
    "    \n",
    "    ## 예측\n",
    "    pred = model.predict(data)  \n",
    "    result = [np.argmax(value) for value in pred]  # 예측 값 중 가장 높은 클래스 반환\n",
    "    print(i, '사진은', categories[result[0]], '입니다.')"
   ]
  }
 ],
 "metadata": {
  "kernelspec": {
   "display_name": "Python 3 (ipykernel)",
   "language": "python",
   "name": "python3"
  },
  "language_info": {
   "codemirror_mode": {
    "name": "ipython",
    "version": 3
   },
   "file_extension": ".py",
   "mimetype": "text/x-python",
   "name": "python",
   "nbconvert_exporter": "python",
   "pygments_lexer": "ipython3",
   "version": "3.11.2"
  }
 },
 "nbformat": 4,
 "nbformat_minor": 5
}
