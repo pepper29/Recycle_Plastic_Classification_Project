{
 "cells": [
  {
   "cell_type": "markdown",
   "id": "bbfeeb41",
   "metadata": {},
   "source": [
    "참고: https://velog.io/@jaehyeong/CNN-%EB%AA%A8%EB%8D%B8%EC%9D%84-%ED%86%B5%ED%95%9C-%EC%9E%90%EB%8F%99%EC%B0%A8-%EC%82%AC%EA%B3%A0-%EC%9D%B4%EB%AF%B8%EC%A7%80-%EB%B6%84%EB%A5%98"
   ]
  },
  {
   "cell_type": "markdown",
   "id": "de1b5901",
   "metadata": {},
   "source": [
    "# 이미지 전처리"
   ]
  },
  {
   "cell_type": "markdown",
   "id": "d7af5c5b",
   "metadata": {},
   "source": [
    "## 카테고리 및 이미지 크기 지정"
   ]
  },
  {
   "cell_type": "code",
   "execution_count": 1,
   "id": "7fef00f7",
   "metadata": {},
   "outputs": [
    {
     "name": "stdout",
     "output_type": "stream",
     "text": [
      "6\n"
     ]
    }
   ],
   "source": [
    "## 분류 대상 카테고리 지정\n",
    "folder_dir = 'C:/Users/ADMIN/Documents/수업파일/221214(Semi)/save Us(Earth)/이미지 증식'\n",
    "categories = ['Can', 'Glass', 'Paper', 'Plastic', 'RecyclePlastic', 'Trash']\n",
    "nb_classes = len(categories)\n",
    "print(nb_classes)"
   ]
  },
  {
   "cell_type": "code",
   "execution_count": 2,
   "id": "da0a0951",
   "metadata": {},
   "outputs": [],
   "source": [
    "## 이미지 크기 지정\n",
    "image_w = 128\n",
    "image_h = 128\n",
    "# pixels = image_w * image_h * 3"
   ]
  },
  {
   "cell_type": "markdown",
   "id": "38342eb8",
   "metadata": {},
   "source": [
    "## 이미지를 Numpy 배열로 변환"
   ]
  },
  {
   "cell_type": "code",
   "execution_count": 3,
   "id": "1a108ec4",
   "metadata": {
    "scrolled": true
   },
   "outputs": [
    {
     "name": "stdout",
     "output_type": "stream",
     "text": [
      "=============== 변환을 시작합니다. ================\n"
     ]
    },
    {
     "name": "stderr",
     "output_type": "stream",
     "text": [
      "23it [00:00, 110.84it/s]"
     ]
    },
    {
     "name": "stdout",
     "output_type": "stream",
     "text": [
      "."
     ]
    },
    {
     "name": "stderr",
     "output_type": "stream",
     "text": [
      "8613it [01:12, 118.24it/s]\n"
     ]
    },
    {
     "name": "stdout",
     "output_type": "stream",
     "text": [
      "Can 이미지 >>> Numpy 배열[완료]\n"
     ]
    },
    {
     "name": "stderr",
     "output_type": "stream",
     "text": [
      "\r\n",
      "0it [00:00, ?it/s]"
     ]
    },
    {
     "name": "stdout",
     "output_type": "stream",
     "text": [
      "."
     ]
    },
    {
     "name": "stderr",
     "output_type": "stream",
     "text": [
      "9104it [01:31, 99.04it/s] \n"
     ]
    },
    {
     "name": "stdout",
     "output_type": "stream",
     "text": [
      "Glass 이미지 >>> Numpy 배열[완료]\n"
     ]
    },
    {
     "name": "stderr",
     "output_type": "stream",
     "text": [
      "16it [00:00, 152.41it/s]"
     ]
    },
    {
     "name": "stdout",
     "output_type": "stream",
     "text": [
      "."
     ]
    },
    {
     "name": "stderr",
     "output_type": "stream",
     "text": [
      "9483it [00:59, 159.61it/s]\n"
     ]
    },
    {
     "name": "stdout",
     "output_type": "stream",
     "text": [
      "Paper 이미지 >>> Numpy 배열[완료]\n"
     ]
    },
    {
     "name": "stderr",
     "output_type": "stream",
     "text": [
      "8it [00:00, 76.59it/s]"
     ]
    },
    {
     "name": "stdout",
     "output_type": "stream",
     "text": [
      "."
     ]
    },
    {
     "name": "stderr",
     "output_type": "stream",
     "text": [
      "9308it [01:34, 98.77it/s] \n"
     ]
    },
    {
     "name": "stdout",
     "output_type": "stream",
     "text": [
      "Plastic 이미지 >>> Numpy 배열[완료]\n"
     ]
    },
    {
     "name": "stderr",
     "output_type": "stream",
     "text": [
      "0it [00:00, ?it/s]\n"
     ]
    },
    {
     "name": "stdout",
     "output_type": "stream",
     "text": [
      "RecyclePlastic 이미지 >>> Numpy 배열[완료]\n"
     ]
    },
    {
     "name": "stderr",
     "output_type": "stream",
     "text": [
      "\r\n",
      "0it [00:00, ?it/s]"
     ]
    },
    {
     "name": "stdout",
     "output_type": "stream",
     "text": [
      "."
     ]
    },
    {
     "name": "stderr",
     "output_type": "stream",
     "text": [
      "7124it [00:43, 165.59it/s]\n"
     ]
    },
    {
     "name": "stdout",
     "output_type": "stream",
     "text": [
      "Trash 이미지 >>> Numpy 배열[완료]\n",
      "========= 변환을 성공적으로 완료했습니다! =========\n"
     ]
    }
   ],
   "source": [
    "## 이미지 -> Numpy 배열 변환\n",
    "from PIL import Image\n",
    "import glob\n",
    "import numpy as np\n",
    "from tqdm import tqdm, trange\n",
    "\n",
    "\n",
    "\n",
    "## 데이터 저장 리스트\n",
    "X = []  # 이미지(numpy 배열) 리스트\n",
    "Y = []  # label 리스트\n",
    "\n",
    "print('=============== 변환을 시작합니다. ================')\n",
    "for idx, cat in enumerate(categories):\n",
    "    ## label 지정\n",
    "    label = [0 for i in range(nb_classes)]  # [0, 0, 0]\n",
    "    label[idx] = 1                          # label 원-핫 인코딩 / [1, 0, 0], [0, 1, 0], [0, 0, 1]\n",
    "    \n",
    "    \n",
    "    ## 이미지 경로 리스트\n",
    "    image_dir = folder_dir + '/' + cat\n",
    "    files = glob.glob(image_dir + '/' + '*.jpg')  # glob.glob(): 저장 경로와 패턴에 해당하는 파일명을 리스트 형식으로 반환\n",
    "    \n",
    "    for i, f in tqdm(enumerate(files)):\n",
    "        img = Image.open(f)                   # 이미지 열기\n",
    "        img = img.convert(\"RGB\")              # RGB로 변환\n",
    "#         img = img.convert(\"RGBA\")              # RGBA로 변환(투명 반투명을 추가해서 4차원 형식으로)\n",
    "        img = img.resize((image_w, image_h))  # 이미지 resize(64, 64)\n",
    "        data = np.asarray(img)                # 이미지 -> numpy 배열 변환\n",
    "        X.append(data)\n",
    "        Y.append(label)\n",
    "        \n",
    "    ## 저장 진행 상황 출력\n",
    "        if i % (len(files)/10) == 0:\n",
    "            print('.', end='')\n",
    "    print(categories[idx], '이미지 >>> Numpy 배열[완료]')\n",
    "print('========= 변환을 성공적으로 완료했습니다! =========')\n",
    "    \n",
    "X = np.array(X)\n",
    "Y = np.array(Y)"
   ]
  },
  {
   "cell_type": "code",
   "execution_count": 4,
   "id": "6af5be22",
   "metadata": {},
   "outputs": [
    {
     "name": "stdout",
     "output_type": "stream",
     "text": [
      "(43632, 128, 128, 3)\n",
      "(43632, 6)\n"
     ]
    }
   ],
   "source": [
    "## 이미지, label 배열 확인 \n",
    "print(X.shape)\n",
    "print(Y.shape)"
   ]
  },
  {
   "cell_type": "markdown",
   "id": "0274915f",
   "metadata": {},
   "source": [
    "## train & test set 나누기"
   ]
  },
  {
   "cell_type": "code",
   "execution_count": 5,
   "id": "6abc4946",
   "metadata": {},
   "outputs": [],
   "source": [
    "## train set, test set 나누기\n",
    "from sklearn.model_selection import train_test_split\n",
    "\n",
    "X_train, X_test, y_train, y_test = train_test_split(X, Y, test_size=0.25)\n",
    "train_test_set = (X_train, X_test, y_train, y_test)"
   ]
  },
  {
   "cell_type": "code",
   "execution_count": 7,
   "id": "4adf99a8",
   "metadata": {},
   "outputs": [
    {
     "name": "stdout",
     "output_type": "stream",
     "text": [
      "train 이미지: (32724, 128, 128, 3)\n",
      "train label: (32724, 6)\n",
      "test 이미지: (10908, 128, 128, 3)\n",
      "test label: (10908, 6)\n"
     ]
    }
   ],
   "source": [
    "## 나눠진 train, test set 확인\n",
    "print('train 이미지:', X_train.shape)\n",
    "print('train label:', y_train.shape)\n",
    "print('test 이미지:', X_test.shape)\n",
    "print('test label:', y_test.shape)"
   ]
  },
  {
   "cell_type": "markdown",
   "id": "61b5596f",
   "metadata": {},
   "source": [
    "## 데이터 저장"
   ]
  },
  {
   "cell_type": "code",
   "execution_count": 8,
   "id": "c5aefd1a",
   "metadata": {},
   "outputs": [
    {
     "name": "stdout",
     "output_type": "stream",
     "text": [
      "============ Data 저장 중 ============\n"
     ]
    },
    {
     "name": "stderr",
     "output_type": "stream",
     "text": [
      "C:\\Users\\ADMIN\\anaconda3\\lib\\site-packages\\numpy\\lib\\npyio.py:528: VisibleDeprecationWarning: Creating an ndarray from ragged nested sequences (which is a list-or-tuple of lists-or-tuples-or ndarrays with different lengths or shapes) is deprecated. If you meant to do this, you must specify 'dtype=object' when creating the ndarray.\n",
      "  arr = np.asanyarray(arr)\n"
     ]
    },
    {
     "name": "stdout",
     "output_type": "stream",
     "text": [
      "43632 개의 이미지가 저장이 완료되었습니다.\n"
     ]
    }
   ],
   "source": [
    "## 이미지 저장(.npy)\n",
    "# import pickle\n",
    "print('============ Data 저장 중 ============')\n",
    "# pickle.dump(d, open(\"file\", 'w'), protocol=4)\n",
    "np.save('./image/12obj.npy', train_test_set)\n",
    "print(len(X), '개의 이미지가 저장이 완료되었습니다.')"
   ]
  }
 ],
 "metadata": {
  "kernelspec": {
   "display_name": "Python 3 (ipykernel)",
   "language": "python",
   "name": "python3"
  },
  "language_info": {
   "codemirror_mode": {
    "name": "ipython",
    "version": 3
   },
   "file_extension": ".py",
   "mimetype": "text/x-python",
   "name": "python",
   "nbconvert_exporter": "python",
   "pygments_lexer": "ipython3",
   "version": "3.11.2"
  }
 },
 "nbformat": 4,
 "nbformat_minor": 5
}
